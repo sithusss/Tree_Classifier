{
 "cells": [
  {
   "cell_type": "code",
   "execution_count": 7,
   "metadata": {},
   "outputs": [],
   "source": [
    "class DecisionNode:\n",
    "    def __init__(self, feature_index=None, threshold=None, left=None, right=None, value=None):\n",
    "        self.feature_index = feature_index\n",
    "        self.threshold = threshold\n",
    "        self.left = left\n",
    "        self.right = right\n",
    "        self.value = value\n",
    "\n",
    "def build_tree(X, y, depth=0, max_depth=10):\n",
    "    n_samples, n_features = X.shape\n",
    "    unique_classes = np.unique(y)\n",
    "    \n",
    "    # Stopping criteria\n",
    "    if len(unique_classes) == 1 or depth >= max_depth:\n",
    "        leaf_value = unique_classes[0]\n",
    "        return DecisionNode(value=leaf_value)\n",
    "    \n",
    "    best_feature, best_threshold = find_best_split(X, y, n_features)\n",
    "    if best_feature is None:\n",
    "        leaf_value = np.bincount(y).argmax()\n",
    "        return DecisionNode(value=leaf_value)\n",
    "    \n",
    "    left_indices, right_indices = split_dataset(X[:, best_feature], best_threshold)\n",
    "    left_subtree = build_tree(X[left_indices, :], y[left_indices], depth + 1, max_depth)\n",
    "    right_subtree = build_tree(X[right_indices, :], y[right_indices], depth + 1, max_depth)\n",
    "    \n",
    "    return DecisionNode(best_feature, best_threshold, left_subtree, right_subtree)\n",
    "\n",
    "def find_best_split(X, y, n_features):\n",
    "    best_feature, best_threshold = None, None\n",
    "    best_gini = float('inf')\n",
    "    \n",
    "    for feature_index in range(n_features):\n",
    "        thresholds = np.unique(X[:, feature_index])\n",
    "        for threshold in thresholds:\n",
    "            gini = calculate_gini_index(y, X[:, feature_index], threshold)\n",
    "            if gini < best_gini:\n",
    "                best_gini = gini\n",
    "                best_feature = feature_index\n",
    "                best_threshold = threshold\n",
    "    \n",
    "    return best_feature, best_threshold\n",
    "\n",
    "def calculate_gini_index(y, feature_values, threshold):\n",
    "    left_indices = feature_values <= threshold\n",
    "    right_indices = feature_values > threshold\n",
    "    left_gini = gini(y[left_indices])\n",
    "    right_gini = gini(y[right_indices])\n",
    "    weighted_gini = (len(left_indices) / len(y)) * left_gini + (len(right_indices) / len(y)) * right_gini\n",
    "    return weighted_gini\n",
    "\n",
    "def gini(y):\n",
    "    _, counts = np.unique(y, return_counts=True)\n",
    "    probabilities = counts / len(y)\n",
    "    return 1 - np.sum(probabilities ** 2)\n",
    "\n",
    "def split_dataset(feature_values, threshold):\n",
    "    left_indices = np.where(feature_values <= threshold)[0]\n",
    "    right_indices = np.where(feature_values > threshold)[0]\n",
    "    return left_indices, right_indices\n",
    "\n",
    "def predict_tree(node, X):\n",
    "    if node.value is not None:\n",
    "        return node.value\n",
    "    \n",
    "    if X[node.feature_index] <= node.threshold:\n",
    "        return predict_tree(node.left, X)\n",
    "    else:\n",
    "        return predict_tree(node.right, X)\n"
   ]
  },
  {
   "cell_type": "code",
   "execution_count": 8,
   "metadata": {},
   "outputs": [
    {
     "name": "stdout",
     "output_type": "stream",
     "text": [
      "Accuracy: 100.00%\n"
     ]
    }
   ],
   "source": [
    "import pandas as pd\n",
    "import numpy as np\n",
    "from sklearn.model_selection import train_test_split\n",
    "from sklearn.metrics import accuracy_score\n",
    "\n",
    "# Load the dataset from a CSV file\n",
    "df = pd.read_csv('dataset.csv')\n",
    "\n",
    "# Create a 'class' column based on the class columns\n",
    "df['class'] = np.argmax(df[['class_0', 'class_1', 'class_2']].values, axis=1)\n",
    "\n",
    "# Drop the individual class columns to create the feature set\n",
    "X = df.drop(['class_0', 'class_1', 'class_2', 'class'], axis=1).values\n",
    "\n",
    "# Extract the target variable\n",
    "y = df['class'].values\n",
    "\n",
    "# Split the dataset into training and testing sets\n",
    "X_train, X_test, y_train, y_test = train_test_split(X, y, test_size=0.2, random_state=42)\n",
    "\n",
    "# Build the decision tree model\n",
    "tree = build_tree(X_train, y_train, max_depth=10)\n",
    "\n",
    "# Predict function for the test set\n",
    "def predict_tree_set(tree, X):\n",
    "    return [predict_tree(tree, x) for x in X]\n",
    "\n",
    "# Predict the classes on the test set\n",
    "y_pred = predict_tree_set(tree, X_test)\n",
    "\n",
    "# Calculate the accuracy of the model\n",
    "accuracy = accuracy_score(y_test, y_pred)\n",
    "print(f'Accuracy: {accuracy * 100:.2f}%')\n"
   ]
  },
  {
   "cell_type": "code",
   "execution_count": 12,
   "metadata": {},
   "outputs": [
    {
     "name": "stdout",
     "output_type": "stream",
     "text": [
      "The predicted class for the tree with narati=30, ratio=4, angel=20 is: class_1\n"
     ]
    }
   ],
   "source": [
    "# Function to predict the class of a new tree based on user inputs\n",
    "def predict_tree_class(narati, ratio, angel, tree):\n",
    "    new_data = np.array([narati, ratio, angel])\n",
    "    predicted_class = predict_tree(tree, new_data)\n",
    "    return predicted_class\n",
    "\n",
    "# Example: Predict the class for a new tree with specific features\n",
    "narati = 30\n",
    "ratio = 4\n",
    "angel = 20\n",
    "predicted_class = predict_tree_class(narati, ratio, angel, tree)\n",
    "print(f'The predicted class for the tree with narati={narati}, ratio={ratio}, angel={angel} is: class_{predicted_class}')\n"
   ]
  }
 ],
 "metadata": {
  "kernelspec": {
   "display_name": "IIS",
   "language": "python",
   "name": "python3"
  },
  "language_info": {
   "codemirror_mode": {
    "name": "ipython",
    "version": 3
   },
   "file_extension": ".py",
   "mimetype": "text/x-python",
   "name": "python",
   "nbconvert_exporter": "python",
   "pygments_lexer": "ipython3",
   "version": "3.7.16"
  }
 },
 "nbformat": 4,
 "nbformat_minor": 2
}
