{
 "cells": [
  {
   "cell_type": "code",
   "execution_count": 4,
   "metadata": {},
   "outputs": [
    {
     "name": "stdout",
     "output_type": "stream",
     "text": [
      "           narati       ratio       angel     class_0     class_1     class_2\n",
      "count  100.000000  100.000000  100.000000  100.000000  100.000000  100.000000\n",
      "mean    32.960000    2.899924   56.305000    0.330000    0.350000    0.320000\n",
      "std     15.308227    0.931572   23.125906    0.472582    0.479372    0.468826\n",
      "min     12.000000    1.574468   17.000000    0.000000    0.000000    0.000000\n",
      "25%     22.000000    1.975564   30.000000    0.000000    0.000000    0.000000\n",
      "50%     27.000000    2.711325   65.000000    0.000000    0.000000    0.000000\n",
      "75%     49.000000    3.932143   73.000000    1.000000    1.000000    1.000000\n",
      "max     68.000000    4.447368  109.000000    1.000000    1.000000    1.000000\n"
     ]
    }
   ],
   "source": [
    "import pandas as pd\n",
    "\n",
    "\n",
    "df = pd.read_csv('dataset.csv')\n",
    "print(df.describe())"
   ]
  },
  {
   "cell_type": "code",
   "execution_count": 5,
   "metadata": {},
   "outputs": [
    {
     "name": "stdout",
     "output_type": "stream",
     "text": [
      "    narati     ratio  angel  class_0  class_1  class_2\n",
      "83      57  1.837209   67.0        0        0        1\n",
      "53      32  3.702703   35.0        0        1        0\n",
      "70      52  2.052632   59.0        0        0        1\n",
      "45      28  3.627907   28.0        0        1        0\n",
      "44      28  3.714286   26.0        0        1        0\n",
      "..     ...       ...    ...      ...      ...      ...\n",
      "60      30  4.121212   27.0        0        1        0\n",
      "71      45  1.972973   63.0        0        0        1\n",
      "14      22  3.307692   75.0        1        0        0\n",
      "92      62  1.844444   65.0        0        0        1\n",
      "51      27  3.911111   21.0        0        1        0\n",
      "\n",
      "[100 rows x 6 columns]\n"
     ]
    }
   ],
   "source": [
    "\n",
    "# Assuming df is your DataFrame\n",
    "shuffled_df = df.sample(frac=1, random_state=42)  # Shuffle the DataFrame\n",
    "print(shuffled_df)\n"
   ]
  },
  {
   "cell_type": "code",
   "execution_count": 6,
   "metadata": {},
   "outputs": [],
   "source": [
    "import tensorflow as tf\n",
    "from tensorflow.keras.models import Sequential\n",
    "from keras.layers import Dense, Dropout\n",
    "from tensorflow.keras.utils import to_categorical\n",
    "from keras.callbacks import EarlyStopping, ModelCheckpoint\n",
    "import numpy as np"
   ]
  },
  {
   "cell_type": "code",
   "execution_count": 18,
   "metadata": {},
   "outputs": [
    {
     "name": "stdout",
     "output_type": "stream",
     "text": [
      "[0 0 0 0 0 0 0 0 0 0 0 0 0 0 0 0 0 0 0 0 0 0 0 0 0 0 0 0 0 0 0 0 0 1 1 1 1\n",
      " 1 1 1 1 1 1 1 1 1 1 1 1 1 1 1 1 1 1 1 1 1 1 1 1 1 1 1 1 1 1 1 2 2 2 2 2 2\n",
      " 2 2 2 2 2 2 2 2 2 2 2 2 2 2 2 2 2 2 2 2 2 2 2 2 2 2]\n"
     ]
    }
   ],
   "source": [
    "df['class'] = np.argmax(df[['class_0', 'class_1', 'class_2']].values, axis=1)\n",
    "\n",
    "# Drop the individual class columns to create the feature set\n",
    "X = df.drop(['class_0', 'class_1', 'class_2', 'class'], axis=1).values\n",
    "\n",
    "# Extract the target variable\n",
    "y = df['class'].values\n",
    "print(y)"
   ]
  },
  {
   "cell_type": "code",
   "execution_count": 8,
   "metadata": {},
   "outputs": [
    {
     "name": "stdout",
     "output_type": "stream",
     "text": [
      "(100, 3)\n",
      "[[1. 0. 0.]\n",
      " [1. 0. 0.]\n",
      " [1. 0. 0.]\n",
      " [1. 0. 0.]\n",
      " [1. 0. 0.]\n",
      " [1. 0. 0.]\n",
      " [1. 0. 0.]\n",
      " [1. 0. 0.]\n",
      " [1. 0. 0.]\n",
      " [1. 0. 0.]\n",
      " [1. 0. 0.]\n",
      " [1. 0. 0.]\n",
      " [1. 0. 0.]\n",
      " [1. 0. 0.]\n",
      " [1. 0. 0.]\n",
      " [1. 0. 0.]\n",
      " [1. 0. 0.]\n",
      " [1. 0. 0.]\n",
      " [1. 0. 0.]\n",
      " [1. 0. 0.]\n",
      " [1. 0. 0.]\n",
      " [1. 0. 0.]\n",
      " [1. 0. 0.]\n",
      " [1. 0. 0.]\n",
      " [1. 0. 0.]\n",
      " [1. 0. 0.]\n",
      " [1. 0. 0.]\n",
      " [1. 0. 0.]\n",
      " [1. 0. 0.]\n",
      " [1. 0. 0.]\n",
      " [1. 0. 0.]\n",
      " [1. 0. 0.]\n",
      " [1. 0. 0.]\n",
      " [0. 1. 0.]\n",
      " [0. 1. 0.]\n",
      " [0. 1. 0.]\n",
      " [0. 1. 0.]\n",
      " [0. 1. 0.]\n",
      " [0. 1. 0.]\n",
      " [0. 1. 0.]\n",
      " [0. 1. 0.]\n",
      " [0. 1. 0.]\n",
      " [0. 1. 0.]\n",
      " [0. 1. 0.]\n",
      " [0. 1. 0.]\n",
      " [0. 1. 0.]\n",
      " [0. 1. 0.]\n",
      " [0. 1. 0.]\n",
      " [0. 1. 0.]\n",
      " [0. 1. 0.]\n",
      " [0. 1. 0.]\n",
      " [0. 1. 0.]\n",
      " [0. 1. 0.]\n",
      " [0. 1. 0.]\n",
      " [0. 1. 0.]\n",
      " [0. 1. 0.]\n",
      " [0. 1. 0.]\n",
      " [0. 1. 0.]\n",
      " [0. 1. 0.]\n",
      " [0. 1. 0.]\n",
      " [0. 1. 0.]\n",
      " [0. 1. 0.]\n",
      " [0. 1. 0.]\n",
      " [0. 1. 0.]\n",
      " [0. 1. 0.]\n",
      " [0. 1. 0.]\n",
      " [0. 1. 0.]\n",
      " [0. 1. 0.]\n",
      " [0. 0. 1.]\n",
      " [0. 0. 1.]\n",
      " [0. 0. 1.]\n",
      " [0. 0. 1.]\n",
      " [0. 0. 1.]\n",
      " [0. 0. 1.]\n",
      " [0. 0. 1.]\n",
      " [0. 0. 1.]\n",
      " [0. 0. 1.]\n",
      " [0. 0. 1.]\n",
      " [0. 0. 1.]\n",
      " [0. 0. 1.]\n",
      " [0. 0. 1.]\n",
      " [0. 0. 1.]\n",
      " [0. 0. 1.]\n",
      " [0. 0. 1.]\n",
      " [0. 0. 1.]\n",
      " [0. 0. 1.]\n",
      " [0. 0. 1.]\n",
      " [0. 0. 1.]\n",
      " [0. 0. 1.]\n",
      " [0. 0. 1.]\n",
      " [0. 0. 1.]\n",
      " [0. 0. 1.]\n",
      " [0. 0. 1.]\n",
      " [0. 0. 1.]\n",
      " [0. 0. 1.]\n",
      " [0. 0. 1.]\n",
      " [0. 0. 1.]\n",
      " [0. 0. 1.]\n",
      " [0. 0. 1.]\n",
      " [0. 0. 1.]]\n"
     ]
    }
   ],
   "source": [
    "from sklearn.model_selection import train_test_split\n",
    "y = to_categorical(y)\n",
    "print(y.shape)\n",
    "print(y)\n",
    "X_train, X_test, y_train, y_test = train_test_split(X, y, test_size=0.2, random_state=42)"
   ]
  },
  {
   "cell_type": "code",
   "execution_count": 9,
   "metadata": {},
   "outputs": [],
   "source": [
    "from sklearn.preprocessing import StandardScaler\n",
    "scaler = StandardScaler()\n",
    "X_train_scaled = scaler.fit_transform(X_train)\n",
    "\n",
    "# Function to get user inputs\n",
    "def get_user_inputs():\n",
    "    user_input = []\n",
    "    for feature in df.columns[:-1]:  # Exclude the last column which is the class\n",
    "        value = input(f\"Enter value for {feature}: \")\n",
    "        user_input.append(float(value))  # Assuming input values are numeric\n",
    "    return user_input"
   ]
  },
  {
   "cell_type": "code",
   "execution_count": 10,
   "metadata": {},
   "outputs": [],
   "source": [
    "model = Sequential([\n",
    "    Dense(52, activation='relu', input_shape=(X_train.shape[1],)),\n",
    "    Dense(44, activation='relu'),\n",
    "    Dense(y.shape[1], activation='softmax')\n",
    "])"
   ]
  },
  {
   "cell_type": "code",
   "execution_count": 11,
   "metadata": {},
   "outputs": [],
   "source": [
    "model.compile(optimizer='adam', loss='categorical_crossentropy', metrics=['accuracy'])"
   ]
  },
  {
   "cell_type": "code",
   "execution_count": 12,
   "metadata": {},
   "outputs": [
    {
     "name": "stdout",
     "output_type": "stream",
     "text": [
      "Epoch 1/25\n",
      "2/2 [==============================] - 1s 168ms/step - loss: 5.6511 - accuracy: 0.2812 - val_loss: 3.5746 - val_accuracy: 0.4375\n",
      "Epoch 2/25\n",
      "2/2 [==============================] - 0s 38ms/step - loss: 3.4146 - accuracy: 0.2812 - val_loss: 1.8778 - val_accuracy: 0.4375\n",
      "Epoch 3/25\n",
      "2/2 [==============================] - 0s 32ms/step - loss: 1.7322 - accuracy: 0.2812 - val_loss: 1.5662 - val_accuracy: 0.1875\n",
      "Epoch 4/25\n",
      "2/2 [==============================] - 0s 16ms/step - loss: 1.3269 - accuracy: 0.3281 - val_loss: 1.4595 - val_accuracy: 0.1875\n",
      "Epoch 5/25\n",
      "2/2 [==============================] - 0s 34ms/step - loss: 1.0127 - accuracy: 0.5312 - val_loss: 0.7899 - val_accuracy: 0.5625\n",
      "Epoch 6/25\n",
      "2/2 [==============================] - 0s 68ms/step - loss: 0.6269 - accuracy: 0.7188 - val_loss: 0.4017 - val_accuracy: 0.8125\n",
      "Epoch 7/25\n",
      "2/2 [==============================] - 0s 43ms/step - loss: 0.5416 - accuracy: 0.7031 - val_loss: 0.2961 - val_accuracy: 0.8125\n",
      "Epoch 8/25\n",
      "2/2 [==============================] - 0s 47ms/step - loss: 0.5826 - accuracy: 0.5625 - val_loss: 0.2718 - val_accuracy: 0.8125\n",
      "Epoch 9/25\n",
      "2/2 [==============================] - 0s 38ms/step - loss: 0.6064 - accuracy: 0.5625 - val_loss: 0.2363 - val_accuracy: 0.8125\n",
      "Epoch 10/25\n",
      "2/2 [==============================] - 0s 24ms/step - loss: 0.5396 - accuracy: 0.5938 - val_loss: 0.1938 - val_accuracy: 0.8750\n",
      "Epoch 11/25\n",
      "2/2 [==============================] - 0s 20ms/step - loss: 0.4269 - accuracy: 0.7969 - val_loss: 0.1872 - val_accuracy: 1.0000\n",
      "Epoch 12/25\n",
      "2/2 [==============================] - 0s 23ms/step - loss: 0.3374 - accuracy: 0.9219 - val_loss: 0.2648 - val_accuracy: 0.9375\n",
      "Epoch 13/25\n",
      "2/2 [==============================] - 0s 28ms/step - loss: 0.3159 - accuracy: 0.9531 - val_loss: 0.3547 - val_accuracy: 0.8125\n",
      "Epoch 14/25\n",
      "2/2 [==============================] - 0s 21ms/step - loss: 0.3302 - accuracy: 0.8906 - val_loss: 0.3415 - val_accuracy: 0.8125\n",
      "Epoch 15/25\n",
      "2/2 [==============================] - 0s 25ms/step - loss: 0.2928 - accuracy: 0.9375 - val_loss: 0.2216 - val_accuracy: 0.9375\n",
      "Epoch 16/25\n",
      "2/2 [==============================] - 0s 32ms/step - loss: 0.2522 - accuracy: 0.9219 - val_loss: 0.1571 - val_accuracy: 1.0000\n",
      "Epoch 17/25\n",
      "2/2 [==============================] - 0s 36ms/step - loss: 0.2532 - accuracy: 0.9062 - val_loss: 0.1423 - val_accuracy: 1.0000\n",
      "Epoch 18/25\n",
      "2/2 [==============================] - 0s 27ms/step - loss: 0.2639 - accuracy: 0.9062 - val_loss: 0.1423 - val_accuracy: 1.0000\n",
      "Epoch 19/25\n",
      "2/2 [==============================] - 0s 29ms/step - loss: 0.2540 - accuracy: 0.9062 - val_loss: 0.1476 - val_accuracy: 1.0000\n",
      "Epoch 20/25\n",
      "2/2 [==============================] - 0s 33ms/step - loss: 0.2354 - accuracy: 0.9062 - val_loss: 0.1741 - val_accuracy: 1.0000\n",
      "Epoch 21/25\n",
      "2/2 [==============================] - 0s 37ms/step - loss: 0.2249 - accuracy: 0.9219 - val_loss: 0.2147 - val_accuracy: 0.9375\n",
      "Epoch 22/25\n",
      "2/2 [==============================] - 0s 25ms/step - loss: 0.2238 - accuracy: 0.9375 - val_loss: 0.2209 - val_accuracy: 0.9375\n",
      "Epoch 23/25\n",
      "2/2 [==============================] - 0s 24ms/step - loss: 0.2205 - accuracy: 0.9531 - val_loss: 0.1913 - val_accuracy: 0.9375\n",
      "Epoch 24/25\n",
      "2/2 [==============================] - 0s 21ms/step - loss: 0.2075 - accuracy: 0.9375 - val_loss: 0.1457 - val_accuracy: 1.0000\n",
      "Epoch 25/25\n",
      "2/2 [==============================] - 0s 13ms/step - loss: 0.1982 - accuracy: 0.9219 - val_loss: 0.1139 - val_accuracy: 1.0000\n"
     ]
    }
   ],
   "source": [
    "history = model.fit(X_train, y_train, epochs=25, batch_size=34, validation_split=0.2)"
   ]
  },
  {
   "cell_type": "code",
   "execution_count": 13,
   "metadata": {},
   "outputs": [],
   "source": [
    "early_stopping = EarlyStopping(monitor='val_loss', patience=3, restore_best_weights=True)\n",
    "model_checkpoint = ModelCheckpoint(filepath='best_model.h5', monitor='val_loss', save_best_only=True)\n"
   ]
  },
  {
   "cell_type": "code",
   "execution_count": 14,
   "metadata": {},
   "outputs": [
    {
     "data": {
      "image/png": "[encoded data removed]",
      "text/plain": [
       "<Figure size 640x480 with 1 Axes>"
      ]
     },
     "metadata": {},
     "output_type": "display_data"
    }
   ],
   "source": [
    "import matplotlib.pyplot as plt\n",
    "\n",
    "loss = history.history['loss']\n",
    "val_loss = history.history['val_loss']\n",
    "epochs = range(1, len(loss) + 1)\n",
    "plt.plot(epochs, loss, 'r', label='Training loss')\n",
    "plt.plot(epochs, val_loss, 'b', label='Validation loss')\n",
    "plt.title('Training and validation loss')\n",
    "plt.xlabel('Epochs')\n",
    "plt.ylabel('Loss')\n",
    "plt.legend()\n",
    "plt.show()\n"
   ]
  },
  {
   "cell_type": "code",
   "execution_count": 15,
   "metadata": {},
   "outputs": [
    {
     "data": {
      "image/png": "[encoded data removed]",
      "text/plain": [
       "<Figure size 640x480 with 1 Axes>"
      ]
     },
     "metadata": {},
     "output_type": "display_data"
    }
   ],
   "source": [
    "plt.clf()\n",
    "acc = history.history['accuracy']\n",
    "val_acc = history.history['val_accuracy']\n",
    "plt.plot(epochs, acc, 'r', label='Training acc')\n",
    "plt.plot(epochs, val_acc, 'b', label='Validation acc')\n",
    "plt.title('Training and validation accuracy')\n",
    "plt.xlabel('Epochs')\n",
    "plt.ylabel('Loss')\n",
    "plt.legend()\n",
    "plt.show()"
   ]
  },
  {
   "cell_type": "code",
   "execution_count": 16,
   "metadata": {},
   "outputs": [
    {
     "name": "stdout",
     "output_type": "stream",
     "text": [
      "1/1 [==============================] - 0s 25ms/step - loss: 0.1869 - accuracy: 1.0000\n",
      "Accuracy: 1.0\n"
     ]
    }
   ],
   "source": [
    "loss, accuracy = model.evaluate(X_test, y_test)\n",
    "print(f'Accuracy: {accuracy}')"
   ]
  },
  {
   "cell_type": "code",
   "execution_count": 17,
   "metadata": {},
   "outputs": [
    {
     "ename": "ValueError",
     "evalue": "X has 6 features, but StandardScaler is expecting 3 features as input.",
     "output_type": "error",
     "traceback": [
      "\u001b[1;31m---------------------------------------------------------------------------\u001b[0m",
      "\u001b[1;31mValueError\u001b[0m                                Traceback (most recent call last)",
      "\u001b[1;32m~\\AppData\\Local\\Temp\\ipykernel_11492\\42873099.py\u001b[0m in \u001b[0;36m<module>\u001b[1;34m\u001b[0m\n\u001b[0;32m     25\u001b[0m \u001b[1;31m# Get user inputs\u001b[0m\u001b[1;33m\u001b[0m\u001b[1;33m\u001b[0m\u001b[1;33m\u001b[0m\u001b[0m\n\u001b[0;32m     26\u001b[0m \u001b[0muser_input\u001b[0m \u001b[1;33m=\u001b[0m \u001b[0mget_user_inputs\u001b[0m\u001b[1;33m(\u001b[0m\u001b[1;33m)\u001b[0m\u001b[1;33m\u001b[0m\u001b[1;33m\u001b[0m\u001b[0m\n\u001b[1;32m---> 27\u001b[1;33m \u001b[0mpredicted_class\u001b[0m \u001b[1;33m=\u001b[0m \u001b[0mpredict_class\u001b[0m\u001b[1;33m(\u001b[0m\u001b[0muser_input\u001b[0m\u001b[1;33m)\u001b[0m\u001b[1;33m\u001b[0m\u001b[1;33m\u001b[0m\u001b[0m\n\u001b[0m\u001b[0;32m     28\u001b[0m \u001b[0mprint\u001b[0m\u001b[1;33m(\u001b[0m\u001b[1;34m\"Predicted class:\"\u001b[0m\u001b[1;33m,\u001b[0m \u001b[0mpredicted_class\u001b[0m\u001b[1;33m)\u001b[0m\u001b[1;33m\u001b[0m\u001b[1;33m\u001b[0m\u001b[0m\n\u001b[0;32m     29\u001b[0m \u001b[1;33m\u001b[0m\u001b[0m\n",
      "\u001b[1;32m~\\AppData\\Local\\Temp\\ipykernel_11492\\42873099.py\u001b[0m in \u001b[0;36mpredict_class\u001b[1;34m(user_input)\u001b[0m\n\u001b[0;32m      4\u001b[0m \u001b[1;32mdef\u001b[0m \u001b[0mpredict_class\u001b[0m\u001b[1;33m(\u001b[0m\u001b[0muser_input\u001b[0m\u001b[1;33m)\u001b[0m\u001b[1;33m:\u001b[0m\u001b[1;33m\u001b[0m\u001b[1;33m\u001b[0m\u001b[0m\n\u001b[0;32m      5\u001b[0m     \u001b[1;31m# Preprocess the user input\u001b[0m\u001b[1;33m\u001b[0m\u001b[1;33m\u001b[0m\u001b[1;33m\u001b[0m\u001b[0m\n\u001b[1;32m----> 6\u001b[1;33m     \u001b[0muser_input_scaled\u001b[0m \u001b[1;33m=\u001b[0m \u001b[0mscaler\u001b[0m\u001b[1;33m.\u001b[0m\u001b[0mtransform\u001b[0m\u001b[1;33m(\u001b[0m\u001b[0mnp\u001b[0m\u001b[1;33m.\u001b[0m\u001b[0marray\u001b[0m\u001b[1;33m(\u001b[0m\u001b[0muser_input\u001b[0m\u001b[1;33m)\u001b[0m\u001b[1;33m.\u001b[0m\u001b[0mreshape\u001b[0m\u001b[1;33m(\u001b[0m\u001b[1;36m1\u001b[0m\u001b[1;33m,\u001b[0m \u001b[1;33m-\u001b[0m\u001b[1;36m1\u001b[0m\u001b[1;33m)\u001b[0m\u001b[1;33m)\u001b[0m\u001b[1;33m\u001b[0m\u001b[1;33m\u001b[0m\u001b[0m\n\u001b[0m\u001b[0;32m      7\u001b[0m \u001b[1;33m\u001b[0m\u001b[0m\n\u001b[0;32m      8\u001b[0m     \u001b[1;31m# Make prediction\u001b[0m\u001b[1;33m\u001b[0m\u001b[1;33m\u001b[0m\u001b[1;33m\u001b[0m\u001b[0m\n",
      "\u001b[1;32mc:\\Users\\WW\\anaconda3\\envs\\IIS\\lib\\site-packages\\sklearn\\preprocessing\\_data.py\u001b[0m in \u001b[0;36mtransform\u001b[1;34m(self, X, copy)\u001b[0m\n\u001b[0;32m    978\u001b[0m             \u001b[0mestimator\u001b[0m\u001b[1;33m=\u001b[0m\u001b[0mself\u001b[0m\u001b[1;33m,\u001b[0m\u001b[1;33m\u001b[0m\u001b[1;33m\u001b[0m\u001b[0m\n\u001b[0;32m    979\u001b[0m             \u001b[0mdtype\u001b[0m\u001b[1;33m=\u001b[0m\u001b[0mFLOAT_DTYPES\u001b[0m\u001b[1;33m,\u001b[0m\u001b[1;33m\u001b[0m\u001b[1;33m\u001b[0m\u001b[0m\n\u001b[1;32m--> 980\u001b[1;33m             \u001b[0mforce_all_finite\u001b[0m\u001b[1;33m=\u001b[0m\u001b[1;34m\"allow-nan\"\u001b[0m\u001b[1;33m,\u001b[0m\u001b[1;33m\u001b[0m\u001b[1;33m\u001b[0m\u001b[0m\n\u001b[0m\u001b[0;32m    981\u001b[0m         )\n\u001b[0;32m    982\u001b[0m \u001b[1;33m\u001b[0m\u001b[0m\n",
      "\u001b[1;32mc:\\Users\\WW\\anaconda3\\envs\\IIS\\lib\\site-packages\\sklearn\\base.py\u001b[0m in \u001b[0;36m_validate_data\u001b[1;34m(self, X, y, reset, validate_separately, **check_params)\u001b[0m\n\u001b[0;32m    583\u001b[0m \u001b[1;33m\u001b[0m\u001b[0m\n\u001b[0;32m    584\u001b[0m         \u001b[1;32mif\u001b[0m \u001b[1;32mnot\u001b[0m \u001b[0mno_val_X\u001b[0m \u001b[1;32mand\u001b[0m \u001b[0mcheck_params\u001b[0m\u001b[1;33m.\u001b[0m\u001b[0mget\u001b[0m\u001b[1;33m(\u001b[0m\u001b[1;34m\"ensure_2d\"\u001b[0m\u001b[1;33m,\u001b[0m \u001b[1;32mTrue\u001b[0m\u001b[1;33m)\u001b[0m\u001b[1;33m:\u001b[0m\u001b[1;33m\u001b[0m\u001b[1;33m\u001b[0m\u001b[0m\n\u001b[1;32m--> 585\u001b[1;33m             \u001b[0mself\u001b[0m\u001b[1;33m.\u001b[0m\u001b[0m_check_n_features\u001b[0m\u001b[1;33m(\u001b[0m\u001b[0mX\u001b[0m\u001b[1;33m,\u001b[0m \u001b[0mreset\u001b[0m\u001b[1;33m=\u001b[0m\u001b[0mreset\u001b[0m\u001b[1;33m)\u001b[0m\u001b[1;33m\u001b[0m\u001b[1;33m\u001b[0m\u001b[0m\n\u001b[0m\u001b[0;32m    586\u001b[0m \u001b[1;33m\u001b[0m\u001b[0m\n\u001b[0;32m    587\u001b[0m         \u001b[1;32mreturn\u001b[0m \u001b[0mout\u001b[0m\u001b[1;33m\u001b[0m\u001b[1;33m\u001b[0m\u001b[0m\n",
      "\u001b[1;32mc:\\Users\\WW\\anaconda3\\envs\\IIS\\lib\\site-packages\\sklearn\\base.py\u001b[0m in \u001b[0;36m_check_n_features\u001b[1;34m(self, X, reset)\u001b[0m\n\u001b[0;32m    399\u001b[0m         \u001b[1;32mif\u001b[0m \u001b[0mn_features\u001b[0m \u001b[1;33m!=\u001b[0m \u001b[0mself\u001b[0m\u001b[1;33m.\u001b[0m\u001b[0mn_features_in_\u001b[0m\u001b[1;33m:\u001b[0m\u001b[1;33m\u001b[0m\u001b[1;33m\u001b[0m\u001b[0m\n\u001b[0;32m    400\u001b[0m             raise ValueError(\n\u001b[1;32m--> 401\u001b[1;33m                 \u001b[1;34mf\"X has {n_features} features, but {self.__class__.__name__} \"\u001b[0m\u001b[1;33m\u001b[0m\u001b[1;33m\u001b[0m\u001b[0m\n\u001b[0m\u001b[0;32m    402\u001b[0m                 \u001b[1;34mf\"is expecting {self.n_features_in_} features as input.\"\u001b[0m\u001b[1;33m\u001b[0m\u001b[1;33m\u001b[0m\u001b[0m\n\u001b[0;32m    403\u001b[0m             )\n",
      "\u001b[1;31mValueError\u001b[0m: X has 6 features, but StandardScaler is expecting 3 features as input."
     ]
    }
   ],
   "source": [
    "import numpy as np\n",
    "from PIL import Image\n",
    "\n",
    "def predict_class(user_input):\n",
    "    # Preprocess the user input\n",
    "    user_input_scaled = scaler.transform(np.array(user_input).reshape(1, -1))\n",
    "    \n",
    "    # Make prediction\n",
    "    predicted_probabilities = model.predict(user_input_scaled)\n",
    "    predicted_class = np.argmax(predicted_probabilities)\n",
    "\n",
    "    \n",
    "    \n",
    "    return predicted_class\n",
    "\n",
    "def get_user_inputs():\n",
    "    user_input = []\n",
    "    # Assuming your input features are in the same order as in your DataFrame\n",
    "    # Modify this loop according to your input features\n",
    "    for feature in df.columns[:-1]:  # Exclude the last column which is the class\n",
    "        value = input(f\"Enter value for {feature}: \")\n",
    "        user_input.append(value)\n",
    "    return user_input\n",
    "\n",
    "# Get user inputs\n",
    "user_input = get_user_inputs()\n",
    "predicted_class = predict_class(user_input)\n",
    "print(\"Predicted class:\", predicted_class)\n",
    "\n",
    "if(predicted_class == 0):\n",
    "    print(\"Predicted class: Allamanda Cathartica\")\n",
    "\n",
    "    image = Image.open('Golden Trumpet.jpeg')\n",
    "    image.show()\n",
    "\n",
    "elif(predicted_class == 1):\n",
    "    print(\"Predicted class: Ixora coccinea\")\n",
    "    \n",
    "    image = Image.open('Ixora.jpeg')\n",
    "    image.show()\n",
    "\n",
    "elif(predicted_class == 2):\n",
    "    print(\"Predicted class:Cryptostegia grandiflora \")\n",
    "    \n",
    "    image = Image.open('Cryptostegia grandiflora.jpeg')\n",
    "    image.show()\n",
    "else:\n",
    "    print(\"Not define\")\n",
    "\n",
    "\n",
    "\n",
    "\n"
   ]
  },
  {
   "cell_type": "code",
   "execution_count": null,
   "metadata": {},
   "outputs": [],
   "source": []
  },
  {
   "cell_type": "code",
   "execution_count": null,
   "metadata": {},
   "outputs": [],
   "source": []
  },
  {
   "cell_type": "code",
   "execution_count": null,
   "metadata": {},
   "outputs": [
    {
     "name": "stdout",
     "output_type": "stream",
     "text": [
      "           narati       ratio       angel     class_0     class_1     class_2\n",
      "count  100.000000  100.000000  100.000000  100.000000  100.000000  100.000000\n",
      "mean    32.960000    2.899924   56.305000    0.330000    0.350000    0.320000\n",
      "std     15.308227    0.931572   23.125906    0.472582    0.479372    0.468826\n",
      "min     12.000000    1.574468   17.000000    0.000000    0.000000    0.000000\n",
      "25%     22.000000    1.975564   30.000000    0.000000    0.000000    0.000000\n",
      "50%     27.000000    2.711325   65.000000    0.000000    0.000000    0.000000\n",
      "75%     49.000000    3.932143   73.000000    1.000000    1.000000    1.000000\n",
      "max     68.000000    4.447368  109.000000    1.000000    1.000000    1.000000\n"
     ]
    }
   ],
   "source": [
    "import pandas as pd\n",
    "\n",
    "\n",
    "df = pd.read_csv('dataset.csv')\n",
    "print(df.describe())"
   ]
  },
  {
   "cell_type": "code",
   "execution_count": null,
   "metadata": {},
   "outputs": [
    {
     "name": "stdout",
     "output_type": "stream",
     "text": [
      "    narati     ratio  angel  class_0  class_1  class_2\n",
      "83      57  1.837209   67.0        0        0        1\n",
      "53      32  3.702703   35.0        0        1        0\n",
      "70      52  2.052632   59.0        0        0        1\n",
      "45      28  3.627907   28.0        0        1        0\n",
      "44      28  3.714286   26.0        0        1        0\n",
      "..     ...       ...    ...      ...      ...      ...\n",
      "60      30  4.121212   27.0        0        1        0\n",
      "71      45  1.972973   63.0        0        0        1\n",
      "14      22  3.307692   75.0        1        0        0\n",
      "92      62  1.844444   65.0        0        0        1\n",
      "51      27  3.911111   21.0        0        1        0\n",
      "\n",
      "[100 rows x 6 columns]\n"
     ]
    }
   ],
   "source": [
    "\n",
    "# Assuming df is your DataFrame\n",
    "shuffled_df = df.sample(frac=1, random_state=42)  # Shuffle the DataFrame\n",
    "print(shuffled_df)\n"
   ]
  },
  {
   "cell_type": "code",
   "execution_count": null,
   "metadata": {},
   "outputs": [],
   "source": [
    "import tensorflow as tf\n",
    "from tensorflow.keras.models import Sequential\n",
    "from keras.layers import Dense, Dropout\n",
    "from tensorflow.keras.utils import to_categorical\n",
    "from keras.callbacks import EarlyStopping, ModelCheckpoint\n",
    "import numpy as np"
   ]
  },
  {
   "cell_type": "code",
   "execution_count": null,
   "metadata": {},
   "outputs": [
    {
     "name": "stdout",
     "output_type": "stream",
     "text": [
      "[0 0 0 0 0 0 0 0 0 0 0 0 0 0 0 0 0 0 0 0 0 0 0 0 0 0 0 0 0 0 0 0 0 1 1 1 1\n",
      " 1 1 1 1 1 1 1 1 1 1 1 1 1 1 1 1 1 1 1 1 1 1 1 1 1 1 1 1 1 1 1 2 2 2 2 2 2\n",
      " 2 2 2 2 2 2 2 2 2 2 2 2 2 2 2 2 2 2 2 2 2 2 2 2 2 2]\n"
     ]
    }
   ],
   "source": [
    "df['class'] = np.argmax(df[['class_0', 'class_1', 'class_2']].values, axis=1)\n",
    "\n",
    "# Drop the individual class columns to create the feature set\n",
    "X = df.drop(['class_0', 'class_1', 'class_2', 'class'], axis=1).values\n",
    "\n",
    "# Extract the target variable\n",
    "y = df['class'].values\n",
    "print(y)"
   ]
  },
  {
   "cell_type": "code",
   "execution_count": null,
   "metadata": {},
   "outputs": [
    {
     "name": "stdout",
     "output_type": "stream",
     "text": [
      "(100, 3)\n",
      "[[1. 0. 0.]\n",
      " [1. 0. 0.]\n",
      " [1. 0. 0.]\n",
      " [1. 0. 0.]\n",
      " [1. 0. 0.]\n",
      " [1. 0. 0.]\n",
      " [1. 0. 0.]\n",
      " [1. 0. 0.]\n",
      " [1. 0. 0.]\n",
      " [1. 0. 0.]\n",
      " [1. 0. 0.]\n",
      " [1. 0. 0.]\n",
      " [1. 0. 0.]\n",
      " [1. 0. 0.]\n",
      " [1. 0. 0.]\n",
      " [1. 0. 0.]\n",
      " [1. 0. 0.]\n",
      " [1. 0. 0.]\n",
      " [1. 0. 0.]\n",
      " [1. 0. 0.]\n",
      " [1. 0. 0.]\n",
      " [1. 0. 0.]\n",
      " [1. 0. 0.]\n",
      " [1. 0. 0.]\n",
      " [1. 0. 0.]\n",
      " [1. 0. 0.]\n",
      " [1. 0. 0.]\n",
      " [1. 0. 0.]\n",
      " [1. 0. 0.]\n",
      " [1. 0. 0.]\n",
      " [1. 0. 0.]\n",
      " [1. 0. 0.]\n",
      " [1. 0. 0.]\n",
      " [0. 1. 0.]\n",
      " [0. 1. 0.]\n",
      " [0. 1. 0.]\n",
      " [0. 1. 0.]\n",
      " [0. 1. 0.]\n",
      " [0. 1. 0.]\n",
      " [0. 1. 0.]\n",
      " [0. 1. 0.]\n",
      " [0. 1. 0.]\n",
      " [0. 1. 0.]\n",
      " [0. 1. 0.]\n",
      " [0. 1. 0.]\n",
      " [0. 1. 0.]\n",
      " [0. 1. 0.]\n",
      " [0. 1. 0.]\n",
      " [0. 1. 0.]\n",
      " [0. 1. 0.]\n",
      " [0. 1. 0.]\n",
      " [0. 1. 0.]\n",
      " [0. 1. 0.]\n",
      " [0. 1. 0.]\n",
      " [0. 1. 0.]\n",
      " [0. 1. 0.]\n",
      " [0. 1. 0.]\n",
      " [0. 1. 0.]\n",
      " [0. 1. 0.]\n",
      " [0. 1. 0.]\n",
      " [0. 1. 0.]\n",
      " [0. 1. 0.]\n",
      " [0. 1. 0.]\n",
      " [0. 1. 0.]\n",
      " [0. 1. 0.]\n",
      " [0. 1. 0.]\n",
      " [0. 1. 0.]\n",
      " [0. 1. 0.]\n",
      " [0. 0. 1.]\n",
      " [0. 0. 1.]\n",
      " [0. 0. 1.]\n",
      " [0. 0. 1.]\n",
      " [0. 0. 1.]\n",
      " [0. 0. 1.]\n",
      " [0. 0. 1.]\n",
      " [0. 0. 1.]\n",
      " [0. 0. 1.]\n",
      " [0. 0. 1.]\n",
      " [0. 0. 1.]\n",
      " [0. 0. 1.]\n",
      " [0. 0. 1.]\n",
      " [0. 0. 1.]\n",
      " [0. 0. 1.]\n",
      " [0. 0. 1.]\n",
      " [0. 0. 1.]\n",
      " [0. 0. 1.]\n",
      " [0. 0. 1.]\n",
      " [0. 0. 1.]\n",
      " [0. 0. 1.]\n",
      " [0. 0. 1.]\n",
      " [0. 0. 1.]\n",
      " [0. 0. 1.]\n",
      " [0. 0. 1.]\n",
      " [0. 0. 1.]\n",
      " [0. 0. 1.]\n",
      " [0. 0. 1.]\n",
      " [0. 0. 1.]\n",
      " [0. 0. 1.]\n",
      " [0. 0. 1.]\n",
      " [0. 0. 1.]]\n"
     ]
    }
   ],
   "source": [
    "from sklearn.model_selection import train_test_split\n",
    "y = to_categorical(y)\n",
    "print(y.shape)\n",
    "print(y)\n",
    "X_train, X_test, y_train, y_test = train_test_split(X, y, test_size=0.2, random_state=42)"
   ]
  },
  {
   "cell_type": "code",
   "execution_count": null,
   "metadata": {},
   "outputs": [],
   "source": [
    "from sklearn.preprocessing import StandardScaler\n",
    "scaler = StandardScaler()\n",
    "X_train_scaled = scaler.fit_transform(X_train)\n",
    "\n",
    "# Function to get user inputs\n",
    "def get_user_inputs():\n",
    "    user_input = []\n",
    "    for feature in df.columns[:-1]:  # Exclude the last column which is the class\n",
    "        value = input(f\"Enter value for {feature}: \")\n",
    "        user_input.append(float(value))  # Assuming input values are numeric\n",
    "    return user_input"
   ]
  },
  {
   "cell_type": "code",
   "execution_count": null,
   "metadata": {},
   "outputs": [],
   "source": [
    "model = Sequential([\n",
    "    Dense(52, activation='relu', input_shape=(X_train.shape[1],)),\n",
    "    Dense(44, activation='relu'),\n",
    "    Dense(y.shape[1], activation='softmax')\n",
    "])"
   ]
  },
  {
   "cell_type": "code",
   "execution_count": null,
   "metadata": {},
   "outputs": [],
   "source": [
    "model.compile(optimizer='adam', loss='categorical_crossentropy', metrics=['accuracy'])"
   ]
  },
  {
   "cell_type": "code",
   "execution_count": null,
   "metadata": {},
   "outputs": [
    {
     "name": "stdout",
     "output_type": "stream",
     "text": [
      "Epoch 1/25\n",
      "2/2 [==============================] - 1s 168ms/step - loss: 5.6511 - accuracy: 0.2812 - val_loss: 3.5746 - val_accuracy: 0.4375\n",
      "Epoch 2/25\n",
      "2/2 [==============================] - 0s 38ms/step - loss: 3.4146 - accuracy: 0.2812 - val_loss: 1.8778 - val_accuracy: 0.4375\n",
      "Epoch 3/25\n",
      "2/2 [==============================] - 0s 32ms/step - loss: 1.7322 - accuracy: 0.2812 - val_loss: 1.5662 - val_accuracy: 0.1875\n",
      "Epoch 4/25\n",
      "2/2 [==============================] - 0s 16ms/step - loss: 1.3269 - accuracy: 0.3281 - val_loss: 1.4595 - val_accuracy: 0.1875\n",
      "Epoch 5/25\n",
      "2/2 [==============================] - 0s 34ms/step - loss: 1.0127 - accuracy: 0.5312 - val_loss: 0.7899 - val_accuracy: 0.5625\n",
      "Epoch 6/25\n",
      "2/2 [==============================] - 0s 68ms/step - loss: 0.6269 - accuracy: 0.7188 - val_loss: 0.4017 - val_accuracy: 0.8125\n",
      "Epoch 7/25\n",
      "2/2 [==============================] - 0s 43ms/step - loss: 0.5416 - accuracy: 0.7031 - val_loss: 0.2961 - val_accuracy: 0.8125\n",
      "Epoch 8/25\n",
      "2/2 [==============================] - 0s 47ms/step - loss: 0.5826 - accuracy: 0.5625 - val_loss: 0.2718 - val_accuracy: 0.8125\n",
      "Epoch 9/25\n",
      "2/2 [==============================] - 0s 38ms/step - loss: 0.6064 - accuracy: 0.5625 - val_loss: 0.2363 - val_accuracy: 0.8125\n",
      "Epoch 10/25\n",
      "2/2 [==============================] - 0s 24ms/step - loss: 0.5396 - accuracy: 0.5938 - val_loss: 0.1938 - val_accuracy: 0.8750\n",
      "Epoch 11/25\n",
      "2/2 [==============================] - 0s 20ms/step - loss: 0.4269 - accuracy: 0.7969 - val_loss: 0.1872 - val_accuracy: 1.0000\n",
      "Epoch 12/25\n",
      "2/2 [==============================] - 0s 23ms/step - loss: 0.3374 - accuracy: 0.9219 - val_loss: 0.2648 - val_accuracy: 0.9375\n",
      "Epoch 13/25\n",
      "2/2 [==============================] - 0s 28ms/step - loss: 0.3159 - accuracy: 0.9531 - val_loss: 0.3547 - val_accuracy: 0.8125\n",
      "Epoch 14/25\n",
      "2/2 [==============================] - 0s 21ms/step - loss: 0.3302 - accuracy: 0.8906 - val_loss: 0.3415 - val_accuracy: 0.8125\n",
      "Epoch 15/25\n",
      "2/2 [==============================] - 0s 25ms/step - loss: 0.2928 - accuracy: 0.9375 - val_loss: 0.2216 - val_accuracy: 0.9375\n",
      "Epoch 16/25\n",
      "2/2 [==============================] - 0s 32ms/step - loss: 0.2522 - accuracy: 0.9219 - val_loss: 0.1571 - val_accuracy: 1.0000\n",
      "Epoch 17/25\n",
      "2/2 [==============================] - 0s 36ms/step - loss: 0.2532 - accuracy: 0.9062 - val_loss: 0.1423 - val_accuracy: 1.0000\n",
      "Epoch 18/25\n",
      "2/2 [==============================] - 0s 27ms/step - loss: 0.2639 - accuracy: 0.9062 - val_loss: 0.1423 - val_accuracy: 1.0000\n",
      "Epoch 19/25\n",
      "2/2 [==============================] - 0s 29ms/step - loss: 0.2540 - accuracy: 0.9062 - val_loss: 0.1476 - val_accuracy: 1.0000\n",
      "Epoch 20/25\n",
      "2/2 [==============================] - 0s 33ms/step - loss: 0.2354 - accuracy: 0.9062 - val_loss: 0.1741 - val_accuracy: 1.0000\n",
      "Epoch 21/25\n",
      "2/2 [==============================] - 0s 37ms/step - loss: 0.2249 - accuracy: 0.9219 - val_loss: 0.2147 - val_accuracy: 0.9375\n",
      "Epoch 22/25\n",
      "2/2 [==============================] - 0s 25ms/step - loss: 0.2238 - accuracy: 0.9375 - val_loss: 0.2209 - val_accuracy: 0.9375\n",
      "Epoch 23/25\n",
      "2/2 [==============================] - 0s 24ms/step - loss: 0.2205 - accuracy: 0.9531 - val_loss: 0.1913 - val_accuracy: 0.9375\n",
      "Epoch 24/25\n",
      "2/2 [==============================] - 0s 21ms/step - loss: 0.2075 - accuracy: 0.9375 - val_loss: 0.1457 - val_accuracy: 1.0000\n",
      "Epoch 25/25\n",
      "2/2 [==============================] - 0s 13ms/step - loss: 0.1982 - accuracy: 0.9219 - val_loss: 0.1139 - val_accuracy: 1.0000\n"
     ]
    }
   ],
   "source": [
    "history = model.fit(X_train, y_train, epochs=25, batch_size=34, validation_split=0.2)"
   ]
  },
  {
   "cell_type": "code",
   "execution_count": null,
   "metadata": {},
   "outputs": [],
   "source": [
    "early_stopping = EarlyStopping(monitor='val_loss', patience=3, restore_best_weights=True)\n",
    "model_checkpoint = ModelCheckpoint(filepath='best_model.h5', monitor='val_loss', save_best_only=True)\n"
   ]
  },
  {
   "cell_type": "code",
   "execution_count": null,
   "metadata": {},
   "outputs": [
    {
     "data": {
      "image/png": "[encoded data removed]",
      "text/plain": [
       "<Figure size 640x480 with 1 Axes>"
      ]
     },
     "metadata": {},
     "output_type": "display_data"
    }
   ],
   "source": [
    "import matplotlib.pyplot as plt\n",
    "\n",
    "loss = history.history['loss']\n",
    "val_loss = history.history['val_loss']\n",
    "epochs = range(1, len(loss) + 1)\n",
    "plt.plot(epochs, loss, 'r', label='Training loss')\n",
    "plt.plot(epochs, val_loss, 'b', label='Validation loss')\n",
    "plt.title('Training and validation loss')\n",
    "plt.xlabel('Epochs')\n",
    "plt.ylabel('Loss')\n",
    "plt.legend()\n",
    "plt.show()\n"
   ]
  },
  {
   "cell_type": "code",
   "execution_count": null,
   "metadata": {},
   "outputs": [
    {
     "data": {
      "image/png": "[encoded data removed]",
      "text/plain": [
       "<Figure size 640x480 with 1 Axes>"
      ]
     },
     "metadata": {},
     "output_type": "display_data"
    }
   ],
   "source": [
    "plt.clf()\n",
    "acc = history.history['accuracy']\n",
    "val_acc = history.history['val_accuracy']\n",
    "plt.plot(epochs, acc, 'r', label='Training acc')\n",
    "plt.plot(epochs, val_acc, 'b', label='Validation acc')\n",
    "plt.title('Training and validation accuracy')\n",
    "plt.xlabel('Epochs')\n",
    "plt.ylabel('Loss')\n",
    "plt.legend()\n",
    "plt.show()"
   ]
  },
  {
   "cell_type": "code",
   "execution_count": null,
   "metadata": {},
   "outputs": [
    {
     "name": "stdout",
     "output_type": "stream",
     "text": [
      "1/1 [==============================] - 0s 25ms/step - loss: 0.1869 - accuracy: 1.0000\n",
      "Accuracy: 1.0\n"
     ]
    }
   ],
   "source": [
    "loss, accuracy = model.evaluate(X_test, y_test)\n",
    "print(f'Accuracy: {accuracy}')"
   ]
  },
  {
   "cell_type": "code",
   "execution_count": null,
   "metadata": {},
   "outputs": [
    {
     "ename": "ValueError",
     "evalue": "X has 6 features, but StandardScaler is expecting 3 features as input.",
     "output_type": "error",
     "traceback": [
      "\u001b[1;31m---------------------------------------------------------------------------\u001b[0m\n",
      "\u001b[1;31mValueError\u001b[0m                                Traceback (most recent call last)\n",
      "\u001b[1;32m~\\AppData\\Local\\Temp\\ipykernel_11492\\42873099.py\u001b[0m in \u001b[0;36m<module>\u001b[1;34m\u001b[0m\n",
      "\u001b[0;32m     25\u001b[0m \u001b[1;31m# Get user inputs\u001b[0m\u001b[1;33m\u001b[0m\u001b[1;33m\u001b[0m\u001b[1;33m\u001b[0m\u001b[0m\n",
      "\u001b[0;32m     26\u001b[0m \u001b[0muser_input\u001b[0m \u001b[1;33m=\u001b[0m \u001b[0mget_user_inputs\u001b[0m\u001b[1;33m(\u001b[0m\u001b[1;33m)\u001b[0m\u001b[1;33m\u001b[0m\u001b[1;33m\u001b[0m\u001b[0m\n",
      "\u001b[1;32m---> 27\u001b[1;33m \u001b[0mpredicted_class\u001b[0m \u001b[1;33m=\u001b[0m \u001b[0mpredict_class\u001b[0m\u001b[1;33m(\u001b[0m\u001b[0muser_input\u001b[0m\u001b[1;33m)\u001b[0m\u001b[1;33m\u001b[0m\u001b[1;33m\u001b[0m\u001b[0m\n",
      "\u001b[0m\u001b[0;32m     28\u001b[0m \u001b[0mprint\u001b[0m\u001b[1;33m(\u001b[0m\u001b[1;34m\"Predicted class:\"\u001b[0m\u001b[1;33m,\u001b[0m \u001b[0mpredicted_class\u001b[0m\u001b[1;33m)\u001b[0m\u001b[1;33m\u001b[0m\u001b[1;33m\u001b[0m\u001b[0m\n",
      "\u001b[0;32m     29\u001b[0m \u001b[1;33m\u001b[0m\u001b[0m\n",
      "\n",
      "\u001b[1;32m~\\AppData\\Local\\Temp\\ipykernel_11492\\42873099.py\u001b[0m in \u001b[0;36mpredict_class\u001b[1;34m(user_input)\u001b[0m\n",
      "\u001b[0;32m      4\u001b[0m \u001b[1;32mdef\u001b[0m \u001b[0mpredict_class\u001b[0m\u001b[1;33m(\u001b[0m\u001b[0muser_input\u001b[0m\u001b[1;33m)\u001b[0m\u001b[1;33m:\u001b[0m\u001b[1;33m\u001b[0m\u001b[1;33m\u001b[0m\u001b[0m\n",
      "\u001b[0;32m      5\u001b[0m     \u001b[1;31m# Preprocess the user input\u001b[0m\u001b[1;33m\u001b[0m\u001b[1;33m\u001b[0m\u001b[1;33m\u001b[0m\u001b[0m\n",
      "\u001b[1;32m----> 6\u001b[1;33m     \u001b[0muser_input_scaled\u001b[0m \u001b[1;33m=\u001b[0m \u001b[0mscaler\u001b[0m\u001b[1;33m.\u001b[0m\u001b[0mtransform\u001b[0m\u001b[1;33m(\u001b[0m\u001b[0mnp\u001b[0m\u001b[1;33m.\u001b[0m\u001b[0marray\u001b[0m\u001b[1;33m(\u001b[0m\u001b[0muser_input\u001b[0m\u001b[1;33m)\u001b[0m\u001b[1;33m.\u001b[0m\u001b[0mreshape\u001b[0m\u001b[1;33m(\u001b[0m\u001b[1;36m1\u001b[0m\u001b[1;33m,\u001b[0m \u001b[1;33m-\u001b[0m\u001b[1;36m1\u001b[0m\u001b[1;33m)\u001b[0m\u001b[1;33m)\u001b[0m\u001b[1;33m\u001b[0m\u001b[1;33m\u001b[0m\u001b[0m\n",
      "\u001b[0m\u001b[0;32m      7\u001b[0m \u001b[1;33m\u001b[0m\u001b[0m\n",
      "\u001b[0;32m      8\u001b[0m     \u001b[1;31m# Make prediction\u001b[0m\u001b[1;33m\u001b[0m\u001b[1;33m\u001b[0m\u001b[1;33m\u001b[0m\u001b[0m\n",
      "\n",
      "\u001b[1;32mc:\\Users\\WW\\anaconda3\\envs\\IIS\\lib\\site-packages\\sklearn\\preprocessing\\_data.py\u001b[0m in \u001b[0;36mtransform\u001b[1;34m(self, X, copy)\u001b[0m\n",
      "\u001b[0;32m    978\u001b[0m             \u001b[0mestimator\u001b[0m\u001b[1;33m=\u001b[0m\u001b[0mself\u001b[0m\u001b[1;33m,\u001b[0m\u001b[1;33m\u001b[0m\u001b[1;33m\u001b[0m\u001b[0m\n",
      "\u001b[0;32m    979\u001b[0m             \u001b[0mdtype\u001b[0m\u001b[1;33m=\u001b[0m\u001b[0mFLOAT_DTYPES\u001b[0m\u001b[1;33m,\u001b[0m\u001b[1;33m\u001b[0m\u001b[1;33m\u001b[0m\u001b[0m\n",
      "\u001b[1;32m--> 980\u001b[1;33m             \u001b[0mforce_all_finite\u001b[0m\u001b[1;33m=\u001b[0m\u001b[1;34m\"allow-nan\"\u001b[0m\u001b[1;33m,\u001b[0m\u001b[1;33m\u001b[0m\u001b[1;33m\u001b[0m\u001b[0m\n",
      "\u001b[0m\u001b[0;32m    981\u001b[0m         )\n",
      "\u001b[0;32m    982\u001b[0m \u001b[1;33m\u001b[0m\u001b[0m\n",
      "\n",
      "\u001b[1;32mc:\\Users\\WW\\anaconda3\\envs\\IIS\\lib\\site-packages\\sklearn\\base.py\u001b[0m in \u001b[0;36m_validate_data\u001b[1;34m(self, X, y, reset, validate_separately, **check_params)\u001b[0m\n",
      "\u001b[0;32m    583\u001b[0m \u001b[1;33m\u001b[0m\u001b[0m\n",
      "\u001b[0;32m    584\u001b[0m         \u001b[1;32mif\u001b[0m \u001b[1;32mnot\u001b[0m \u001b[0mno_val_X\u001b[0m \u001b[1;32mand\u001b[0m \u001b[0mcheck_params\u001b[0m\u001b[1;33m.\u001b[0m\u001b[0mget\u001b[0m\u001b[1;33m(\u001b[0m\u001b[1;34m\"ensure_2d\"\u001b[0m\u001b[1;33m,\u001b[0m \u001b[1;32mTrue\u001b[0m\u001b[1;33m)\u001b[0m\u001b[1;33m:\u001b[0m\u001b[1;33m\u001b[0m\u001b[1;33m\u001b[0m\u001b[0m\n",
      "\u001b[1;32m--> 585\u001b[1;33m             \u001b[0mself\u001b[0m\u001b[1;33m.\u001b[0m\u001b[0m_check_n_features\u001b[0m\u001b[1;33m(\u001b[0m\u001b[0mX\u001b[0m\u001b[1;33m,\u001b[0m \u001b[0mreset\u001b[0m\u001b[1;33m=\u001b[0m\u001b[0mreset\u001b[0m\u001b[1;33m)\u001b[0m\u001b[1;33m\u001b[0m\u001b[1;33m\u001b[0m\u001b[0m\n",
      "\u001b[0m\u001b[0;32m    586\u001b[0m \u001b[1;33m\u001b[0m\u001b[0m\n",
      "\u001b[0;32m    587\u001b[0m         \u001b[1;32mreturn\u001b[0m \u001b[0mout\u001b[0m\u001b[1;33m\u001b[0m\u001b[1;33m\u001b[0m\u001b[0m\n",
      "\n",
      "\u001b[1;32mc:\\Users\\WW\\anaconda3\\envs\\IIS\\lib\\site-packages\\sklearn\\base.py\u001b[0m in \u001b[0;36m_check_n_features\u001b[1;34m(self, X, reset)\u001b[0m\n",
      "\u001b[0;32m    399\u001b[0m         \u001b[1;32mif\u001b[0m \u001b[0mn_features\u001b[0m \u001b[1;33m!=\u001b[0m \u001b[0mself\u001b[0m\u001b[1;33m.\u001b[0m\u001b[0mn_features_in_\u001b[0m\u001b[1;33m:\u001b[0m\u001b[1;33m\u001b[0m\u001b[1;33m\u001b[0m\u001b[0m\n",
      "\u001b[0;32m    400\u001b[0m             raise ValueError(\n",
      "\u001b[1;32m--> 401\u001b[1;33m                 \u001b[1;34mf\"X has {n_features} features, but {self.__class__.__name__} \"\u001b[0m\u001b[1;33m\u001b[0m\u001b[1;33m\u001b[0m\u001b[0m\n",
      "\u001b[0m\u001b[0;32m    402\u001b[0m                 \u001b[1;34mf\"is expecting {self.n_features_in_} features as input.\"\u001b[0m\u001b[1;33m\u001b[0m\u001b[1;33m\u001b[0m\u001b[0m\n",
      "\u001b[0;32m    403\u001b[0m             )\n",
      "\n",
      "\u001b[1;31mValueError\u001b[0m: X has 6 features, but StandardScaler is expecting 3 features as input."
     ]
    }
   ],
   "source": [
    "import numpy as np\n",
    "from PIL import Image\n",
    "\n",
    "def predict_class(user_input):\n",
    "    # Preprocess the user input\n",
    "    user_input_scaled = scaler.transform(np.array(user_input).reshape(1, -1))\n",
    "    \n",
    "    # Make prediction\n",
    "    predicted_probabilities = model.predict(user_input_scaled)\n",
    "    predicted_class = np.argmax(predicted_probabilities)\n",
    "\n",
    "    \n",
    "    \n",
    "    return predicted_class\n",
    "\n",
    "def get_user_inputs():\n",
    "    user_input = []\n",
    "    # Assuming your input features are in the same order as in your DataFrame\n",
    "    # Modify this loop according to your input features\n",
    "    for feature in df.columns[:-1]:  # Exclude the last column which is the class\n",
    "        value = input(f\"Enter value for {feature}: \")\n",
    "        user_input.append(value)\n",
    "    return user_input\n",
    "\n",
    "# Get user inputs\n",
    "user_input = get_user_inputs()\n",
    "predicted_class = predict_class(user_input)\n",
    "print(\"Predicted class:\", predicted_class)\n",
    "\n",
    "if(predicted_class == 0):\n",
    "    print(\"Predicted class: Allamanda Cathartica\")\n",
    "\n",
    "    image = Image.open('Golden Trumpet.jpeg')\n",
    "    image.show()\n",
    "\n",
    "elif(predicted_class == 1):\n",
    "    print(\"Predicted class: Ixora coccinea\")\n",
    "    \n",
    "    image = Image.open('Ixora.jpeg')\n",
    "    image.show()\n",
    "\n",
    "elif(predicted_class == 2):\n",
    "    print(\"Predicted class:Cryptostegia grandiflora \")\n",
    "    \n",
    "    image = Image.open('Cryptostegia grandiflora.jpeg')\n",
    "    image.show()\n",
    "else:\n",
    "    print(\"Not define\")\n",
    "\n",
    "\n",
    "\n",
    "\n"
   ]
  },
  {
   "cell_type": "code",
   "execution_count": null,
   "metadata": {},
   "outputs": [],
   "source": []
  },
  {
   "cell_type": "code",
   "execution_count": null,
   "metadata": {},
   "outputs": [],
   "source": []
  }
 ],
 "metadata": {
  "kernelspec": {
   "display_name": "IIS",
   "language": "python",
   "name": "python3"
  },
  "language_info": {
   "codemirror_mode": {
    "name": "ipython",
    "version": 3
   },
   "file_extension": ".py",
   "mimetype": "text/x-python",
   "name": "python",
   "nbconvert_exporter": "python",
   "pygments_lexer": "ipython3",
   "version": "3.7.16"
  }
 },
 "nbformat": 4,
 "nbformat_minor": 2
}
